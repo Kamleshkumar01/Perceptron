{
 "cells": [
  {
   "cell_type": "code",
   "execution_count": 7,
   "id": "a996bca4",
   "metadata": {},
   "outputs": [
    {
     "name": "stdout",
     "output_type": "stream",
     "text": [
      "Perceptron([0, 0]) = 0\n",
      "Perceptron([0, 1]) = 0\n",
      "Perceptron([1, 0]) = 0\n",
      "Perceptron([1, 1]) = 1\n",
      "Perceptron([0, 0]) = 0\n",
      "Perceptron([0, 1]) = 1\n",
      "Perceptron([1, 0]) = 1\n",
      "Perceptron([1, 1]) = 1\n",
      "Perceptron([0]) = 1\n",
      "Perceptron([1]) = 0\n"
     ]
    }
   ],
   "source": [
    "import numpy as np\n",
    "\n",
    "class Perceptron:\n",
    "    def __init__(self, num_inputs, activation_threshold=0.0, learning_rate=0.1):\n",
    "        self.weights = np.random.rand(num_inputs)\n",
    "        self.activation_threshold = activation_threshold\n",
    "        self.learning_rate = learning_rate\n",
    "\n",
    "    def activate(self, inputs):\n",
    "        weighted_sum = np.dot(self.weights, inputs)\n",
    "        return 1 if weighted_sum >= self.activation_threshold else 0\n",
    "\n",
    "    def train(self, inputs, target):\n",
    "        prediction = self.activate(inputs)\n",
    "        error = target - prediction\n",
    "        self.weights += self.learning_rate * error * np.array(inputs)  # Convert inputs to NumPy array\n",
    "\n",
    "\n",
    "# Define a function to test a perceptron\n",
    "def test_perceptron(gate, inputs):\n",
    "    output = gate.activate(inputs)\n",
    "    print(f\"{gate.__class__.__name__}({inputs}) = {output}\")\n",
    "\n",
    "# AND gate using a perceptron\n",
    "and_gate = Perceptron(num_inputs=2, activation_threshold=1.5)\n",
    "\n",
    "# OR gate using a perceptron\n",
    "or_gate = Perceptron(num_inputs=2, activation_threshold=0.5)\n",
    "\n",
    "# NOT gate using a perceptron\n",
    "not_gate = Perceptron(num_inputs=1, activation_threshold=0.0)\n",
    "\n",
    "# Training the perceptrons\n",
    "# AND gate: (0, 0) -> 0, (0, 1) -> 0, (1, 0) -> 0, (1, 1) -> 1\n",
    "for _ in range(1000):\n",
    "    and_gate.train([0, 0], 0)\n",
    "    and_gate.train([0, 1], 0)\n",
    "    and_gate.train([1, 0], 0)\n",
    "    and_gate.train([1, 1], 1)\n",
    "\n",
    "# OR gate: (0, 0) -> 0, (0, 1) -> 1, (1, 0) -> 1, (1, 1) -> 1\n",
    "for _ in range(1000):\n",
    "    or_gate.train([0, 0], 0)\n",
    "    or_gate.train([0, 1], 1)\n",
    "    or_gate.train([1, 0], 1)\n",
    "    or_gate.train([1, 1], 1)\n",
    "    \n",
    "\n",
    "# NOT gate: 0 -> 1, 1 -> 0\n",
    "for _ in range(1000):\n",
    "    not_gate.train([0], 1)\n",
    "    not_gate.train([1], 0)\n",
    "\n",
    "# Testing the gates\n",
    "test_perceptron(and_gate, [0, 0])\n",
    "test_perceptron(and_gate, [0, 1])\n",
    "test_perceptron(and_gate, [1, 0])\n",
    "test_perceptron(and_gate, [1, 1])\n",
    "\n",
    "test_perceptron(or_gate, [0, 0])\n",
    "test_perceptron(or_gate, [0, 1])\n",
    "test_perceptron(or_gate, [1, 0])\n",
    "test_perceptron(or_gate, [1, 1])\n",
    "\n",
    "test_perceptron(not_gate, [0])\n",
    "test_perceptron(not_gate, [1])\n"
   ]
  },
  {
   "cell_type": "code",
   "execution_count": null,
   "id": "b99ecf2f",
   "metadata": {},
   "outputs": [],
   "source": []
  }
 ],
 "metadata": {
  "kernelspec": {
   "display_name": "Python 3 (ipykernel)",
   "language": "python",
   "name": "python3"
  },
  "language_info": {
   "codemirror_mode": {
    "name": "ipython",
    "version": 3
   },
   "file_extension": ".py",
   "mimetype": "text/x-python",
   "name": "python",
   "nbconvert_exporter": "python",
   "pygments_lexer": "ipython3",
   "version": "3.11.5"
  }
 },
 "nbformat": 4,
 "nbformat_minor": 5
}
